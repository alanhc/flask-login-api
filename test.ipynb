{
 "cells": [
  {
   "cell_type": "code",
   "execution_count": 44,
   "metadata": {
    "scrolled": true
   },
   "outputs": [
    {
     "name": "stdout",
     "output_type": "stream",
     "text": [
      "\r\n",
      "\r\n",
      "<html>\r\n",
      "<head>\r\n",
      "\t<title> 銘傳大學 學生事務資訊系統  (.34)</title>\r\n",
      "</head>\r\n",
      "\r\n",
      "<body background=\"mcu.gif\" text=\"blue\">\r\n",
      "\r\n",
      "\t\r\n",
      "\r\n",
      " <!--- 檢查是否有 Sql 特殊字元：有－傳回 False, 否－傳回 True --->\r\n",
      " \r\n",
      "\t\t\r\n",
      "\t<!--- 記錄及累計每日上網人數\t --->\r\n",
      "\t\r\n",
      "\r\n",
      "\r\n",
      "<!--- 檢查是否已啟動帳號，否則直接導至更改密碼網頁，修改 e-mail帳號 --->\r\n",
      "\t\r\n",
      "\r\n",
      "<!--- 檢查 39 Std_email 是否存在該生 e-mail 記錄 --->\r\n",
      "\t\t\r\n",
      "<script type=\"text/javascript\">\r\n",
      "\ttop.window.location = \"trans_page.asp?condition=chk\";\r\n",
      "</script>\r\n",
      "\r\n",
      "</body>\r\n",
      "</html> 200\n"
     ]
    }
   ],
   "source": [
    "import requests\n",
    "import urllib3\n",
    "urllib3.disable_warnings()\n",
    "\n",
    "payload = {\n",
    "    \"t_tea_no\": \"\",\n",
    "    \"t_tea_pass\": \"\"\n",
    "}\n",
    "url = 'https://www.mcu.edu.tw/student/new-query/Chk_Pass_New_v1.asp'\n",
    "r = requests.post(url, data=payload, verify=False)\n",
    "r.encoding = 'big5'\n",
    "print(r.text, r.status_code)\n"
   ]
  },
  {
   "cell_type": "code",
   "execution_count": 40,
   "metadata": {},
   "outputs": [
    {
     "name": "stdout",
     "output_type": "stream",
     "text": [
      "ASPSESSIONIDSGRQQBTS DOILCDCCOINOHFONFFMLINAF\n",
      "AX-Cookie-WWW_82_30-443 BPFCGAHI\n",
      "email 0\n",
      "ps \n",
      "std%5Fcnm %26%2326366%3B%26%2323439%3B%26%2337406%3B\n",
      "std%5Fenm TSENG%2C+HUNG%2DCHUN\n",
      "std%5Fens 0xfb038d26731cebb9fe90ef6499d497aac28e2ef0\n",
      "std%5Fip 114%2E43%2E155%2E238\n",
      "std%5Fno 06160485\n",
      "stu%5FcSha1 0x1257ec0a32ca9858d22714475f93b2f0867aa693\n",
      "stu%5FcSha2 0xe0bfb0614b9e740c326193caaf5bfac608edd294\n"
     ]
    }
   ],
   "source": [
    "for c in r.cookies:\n",
    "    print(c.name, c.value)"
   ]
  },
  {
   "cell_type": "code",
   "execution_count": null,
   "metadata": {},
   "outputs": [],
   "source": []
  },
  {
   "cell_type": "code",
   "execution_count": 45,
   "metadata": {},
   "outputs": [
    {
     "name": "stdout",
     "output_type": "stream",
     "text": [
      "06160485\n"
     ]
    }
   ],
   "source": [
    "import urllib.parse\n",
    "try:\n",
    "    name = r.cookies['std%5Fno']\n",
    "    name = urllib.parse.unquote(name)\n",
    "    print(name)\n",
    "except:\n",
    "    print('password error')"
   ]
  }
 ],
 "metadata": {
  "kernelspec": {
   "display_name": "Python 3",
   "language": "python",
   "name": "python3"
  },
  "language_info": {
   "codemirror_mode": {
    "name": "ipython",
    "version": 3
   },
   "file_extension": ".py",
   "mimetype": "text/x-python",
   "name": "python",
   "nbconvert_exporter": "python",
   "pygments_lexer": "ipython3",
   "version": "3.7.3"
  }
 },
 "nbformat": 4,
 "nbformat_minor": 2
}
